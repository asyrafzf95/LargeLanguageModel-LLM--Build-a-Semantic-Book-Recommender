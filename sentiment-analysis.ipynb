{
 "cells": [
  {
   "cell_type": "code",
   "id": "initial_id",
   "metadata": {
    "collapsed": true,
    "ExecuteTime": {
     "end_time": "2025-04-11T17:02:48.670893Z",
     "start_time": "2025-04-11T17:02:48.532734Z"
    }
   },
   "source": [
    "import pandas as pd\n",
    "\n",
    "books = pd.read_csv(\"books_with_categories.csv\")"
   ],
   "outputs": [],
   "execution_count": 1
  },
  {
   "metadata": {
    "ExecuteTime": {
     "end_time": "2025-04-11T17:04:15.901246Z",
     "start_time": "2025-04-11T17:02:57.523802Z"
    }
   },
   "cell_type": "code",
   "source": [
    "from transformers import pipeline\n",
    "classifier = pipeline(\"text-classification\",\n",
    "                      model=\"j-hartmann/emotion-english-distilroberta-base\",\n",
    "                      top_k = None)\n",
    "classifier(\"I love this!\")"
   ],
   "id": "5a4911fb1a297f4f",
   "outputs": [
    {
     "name": "stderr",
     "output_type": "stream",
     "text": [
      "2025-04-12 01:03:12.663792: I tensorflow/core/platform/cpu_feature_guard.cc:210] This TensorFlow binary is optimized to use available CPU instructions in performance-critical operations.\n",
      "To enable the following instructions: AVX2 FMA, in other operations, rebuild TensorFlow with the appropriate compiler flags.\n"
     ]
    },
    {
     "data": {
      "text/plain": [
       "config.json:   0%|          | 0.00/1.00k [00:00<?, ?B/s]"
      ],
      "application/vnd.jupyter.widget-view+json": {
       "version_major": 2,
       "version_minor": 0,
       "model_id": "d64c7664c4bc43b5bb3a608f30ba910d"
      }
     },
     "metadata": {},
     "output_type": "display_data"
    },
    {
     "data": {
      "text/plain": [
       "pytorch_model.bin:   0%|          | 0.00/329M [00:00<?, ?B/s]"
      ],
      "application/vnd.jupyter.widget-view+json": {
       "version_major": 2,
       "version_minor": 0,
       "model_id": "af9f4b139c4a4263b06aa24430b07717"
      }
     },
     "metadata": {},
     "output_type": "display_data"
    },
    {
     "data": {
      "text/plain": [
       "tokenizer_config.json:   0%|          | 0.00/294 [00:00<?, ?B/s]"
      ],
      "application/vnd.jupyter.widget-view+json": {
       "version_major": 2,
       "version_minor": 0,
       "model_id": "1e36a51ccaa1453199c873147e8c07c8"
      }
     },
     "metadata": {},
     "output_type": "display_data"
    },
    {
     "data": {
      "text/plain": [
       "vocab.json:   0%|          | 0.00/798k [00:00<?, ?B/s]"
      ],
      "application/vnd.jupyter.widget-view+json": {
       "version_major": 2,
       "version_minor": 0,
       "model_id": "be5af7ccdc8649f38259b2ce274bbb11"
      }
     },
     "metadata": {},
     "output_type": "display_data"
    },
    {
     "data": {
      "text/plain": [
       "merges.txt:   0%|          | 0.00/456k [00:00<?, ?B/s]"
      ],
      "application/vnd.jupyter.widget-view+json": {
       "version_major": 2,
       "version_minor": 0,
       "model_id": "a858027864c44433a23398f8aac458a1"
      }
     },
     "metadata": {},
     "output_type": "display_data"
    },
    {
     "data": {
      "text/plain": [
       "model.safetensors:   0%|          | 0.00/329M [00:00<?, ?B/s]"
      ],
      "application/vnd.jupyter.widget-view+json": {
       "version_major": 2,
       "version_minor": 0,
       "model_id": "f37d2eaa44f84a4f8948d9aa748f9b9f"
      }
     },
     "metadata": {},
     "output_type": "display_data"
    },
    {
     "data": {
      "text/plain": [
       "tokenizer.json:   0%|          | 0.00/1.36M [00:00<?, ?B/s]"
      ],
      "application/vnd.jupyter.widget-view+json": {
       "version_major": 2,
       "version_minor": 0,
       "model_id": "7acbfc9f7e064658af0ed16417c66b69"
      }
     },
     "metadata": {},
     "output_type": "display_data"
    },
    {
     "data": {
      "text/plain": [
       "special_tokens_map.json:   0%|          | 0.00/239 [00:00<?, ?B/s]"
      ],
      "application/vnd.jupyter.widget-view+json": {
       "version_major": 2,
       "version_minor": 0,
       "model_id": "b24fca83af584c448cdef088a86144ae"
      }
     },
     "metadata": {},
     "output_type": "display_data"
    },
    {
     "name": "stderr",
     "output_type": "stream",
     "text": [
      "Device set to use cpu\n"
     ]
    },
    {
     "data": {
      "text/plain": [
       "[[{'label': 'joy', 'score': 0.9771687984466553},\n",
       "  {'label': 'surprise', 'score': 0.008528676815330982},\n",
       "  {'label': 'neutral', 'score': 0.005764578003436327},\n",
       "  {'label': 'anger', 'score': 0.004419775679707527},\n",
       "  {'label': 'sadness', 'score': 0.002092392183840275},\n",
       "  {'label': 'disgust', 'score': 0.0016119878273457289},\n",
       "  {'label': 'fear', 'score': 0.0004138521908316761}]]"
      ]
     },
     "execution_count": 2,
     "metadata": {},
     "output_type": "execute_result"
    }
   ],
   "execution_count": 2
  },
  {
   "metadata": {
    "ExecuteTime": {
     "end_time": "2025-04-11T17:04:26.840493Z",
     "start_time": "2025-04-11T17:04:26.829597Z"
    }
   },
   "cell_type": "code",
   "source": "books[\"description\"][0]",
   "id": "483b0f7a97150cbb",
   "outputs": [
    {
     "data": {
      "text/plain": [
       "'A NOVEL THAT READERS and critics have been eagerly anticipating for over a decade, Gilead is an astonishingly imagined story of remarkable lives. John Ames is a preacher, the son of a preacher and the grandson (both maternal and paternal) of preachers. It’s 1956 in Gilead, Iowa, towards the end of the Reverend Ames’s life, and he is absorbed in recording his family’s story, a legacy for the young son he will never see grow up. Haunted by his grandfather’s presence, John tells of the rift between his grandfather and his father: the elder, an angry visionary who fought for the abolitionist cause, and his son, an ardent pacifist. He is troubled, too, by his prodigal namesake, Jack (John Ames) Boughton, his best friend’s lost son who returns to Gilead searching for forgiveness and redemption. Told in John Ames’s joyous, rambling voice that finds beauty, humour and truth in the smallest of life’s details, Gilead is a song of celebration and acceptance of the best and the worst the world has to offer. At its heart is a tale of the sacred bonds between fathers and sons, pitch-perfect in style and story, set to dazzle critics and readers alike.'"
      ]
     },
     "execution_count": 3,
     "metadata": {},
     "output_type": "execute_result"
    }
   ],
   "execution_count": 3
  },
  {
   "metadata": {
    "ExecuteTime": {
     "end_time": "2025-04-11T17:04:35.722010Z",
     "start_time": "2025-04-11T17:04:33.878152Z"
    }
   },
   "cell_type": "code",
   "source": "classifier(books[\"description\"][0])",
   "id": "de73df10ddffbac3",
   "outputs": [
    {
     "data": {
      "text/plain": [
       "[[{'label': 'fear', 'score': 0.6548401713371277},\n",
       "  {'label': 'neutral', 'score': 0.16985245048999786},\n",
       "  {'label': 'sadness', 'score': 0.11640936136245728},\n",
       "  {'label': 'surprise', 'score': 0.020700672641396523},\n",
       "  {'label': 'disgust', 'score': 0.019100703299045563},\n",
       "  {'label': 'joy', 'score': 0.01516145933419466},\n",
       "  {'label': 'anger', 'score': 0.0039351508021354675}]]"
      ]
     },
     "execution_count": 4,
     "metadata": {},
     "output_type": "execute_result"
    }
   ],
   "execution_count": 4
  },
  {
   "metadata": {
    "ExecuteTime": {
     "end_time": "2025-04-11T17:04:53.674854Z",
     "start_time": "2025-04-11T17:04:51.036488Z"
    }
   },
   "cell_type": "code",
   "source": "classifier(books[\"description\"][0].split(\".\"))",
   "id": "ae82fad246e5813e",
   "outputs": [
    {
     "data": {
      "text/plain": [
       "[[{'label': 'surprise', 'score': 0.7296020984649658},\n",
       "  {'label': 'neutral', 'score': 0.14038598537445068},\n",
       "  {'label': 'fear', 'score': 0.06816231459379196},\n",
       "  {'label': 'joy', 'score': 0.0479426383972168},\n",
       "  {'label': 'anger', 'score': 0.009156366810202599},\n",
       "  {'label': 'disgust', 'score': 0.0026284765917807817},\n",
       "  {'label': 'sadness', 'score': 0.002122163539752364}],\n",
       " [{'label': 'neutral', 'score': 0.4493700861930847},\n",
       "  {'label': 'disgust', 'score': 0.27359166741371155},\n",
       "  {'label': 'joy', 'score': 0.10908330976963043},\n",
       "  {'label': 'sadness', 'score': 0.0936274304986},\n",
       "  {'label': 'anger', 'score': 0.040478311479091644},\n",
       "  {'label': 'surprise', 'score': 0.02697015181183815},\n",
       "  {'label': 'fear', 'score': 0.006879040971398354}],\n",
       " [{'label': 'neutral', 'score': 0.6462160348892212},\n",
       "  {'label': 'sadness', 'score': 0.2427334040403366},\n",
       "  {'label': 'disgust', 'score': 0.043422676622867584},\n",
       "  {'label': 'surprise', 'score': 0.028300520032644272},\n",
       "  {'label': 'joy', 'score': 0.014211487025022507},\n",
       "  {'label': 'fear', 'score': 0.014084073714911938},\n",
       "  {'label': 'anger', 'score': 0.011031887494027615}],\n",
       " [{'label': 'fear', 'score': 0.9281682968139648},\n",
       "  {'label': 'anger', 'score': 0.03219086676836014},\n",
       "  {'label': 'neutral', 'score': 0.012808667495846748},\n",
       "  {'label': 'sadness', 'score': 0.008756859228014946},\n",
       "  {'label': 'surprise', 'score': 0.008597901090979576},\n",
       "  {'label': 'disgust', 'score': 0.008431815542280674},\n",
       "  {'label': 'joy', 'score': 0.0010455823503434658}],\n",
       " [{'label': 'sadness', 'score': 0.9671575427055359},\n",
       "  {'label': 'neutral', 'score': 0.015104148536920547},\n",
       "  {'label': 'disgust', 'score': 0.006480592768639326},\n",
       "  {'label': 'fear', 'score': 0.005393987521529198},\n",
       "  {'label': 'surprise', 'score': 0.0022869419772177935},\n",
       "  {'label': 'anger', 'score': 0.001842890284024179},\n",
       "  {'label': 'joy', 'score': 0.0017338789766654372}],\n",
       " [{'label': 'joy', 'score': 0.9327982664108276},\n",
       "  {'label': 'disgust', 'score': 0.037716951221227646},\n",
       "  {'label': 'neutral', 'score': 0.01589179039001465},\n",
       "  {'label': 'sadness', 'score': 0.006444488652050495},\n",
       "  {'label': 'anger', 'score': 0.005024956539273262},\n",
       "  {'label': 'surprise', 'score': 0.0015812052879482508},\n",
       "  {'label': 'fear', 'score': 0.000542305177077651}],\n",
       " [{'label': 'joy', 'score': 0.6528708338737488},\n",
       "  {'label': 'neutral', 'score': 0.2542746663093567},\n",
       "  {'label': 'surprise', 'score': 0.06808292865753174},\n",
       "  {'label': 'sadness', 'score': 0.00990899559110403},\n",
       "  {'label': 'disgust', 'score': 0.006512210238724947},\n",
       "  {'label': 'anger', 'score': 0.004821307025849819},\n",
       "  {'label': 'fear', 'score': 0.0035290156956762075}],\n",
       " [{'label': 'neutral', 'score': 0.5494776368141174},\n",
       "  {'label': 'sadness', 'score': 0.11169002205133438},\n",
       "  {'label': 'disgust', 'score': 0.10400651395320892},\n",
       "  {'label': 'surprise', 'score': 0.0787653774023056},\n",
       "  {'label': 'anger', 'score': 0.06413347274065018},\n",
       "  {'label': 'fear', 'score': 0.05136268585920334},\n",
       "  {'label': 'joy', 'score': 0.04056432843208313}]]"
      ]
     },
     "execution_count": 5,
     "metadata": {},
     "output_type": "execute_result"
    }
   ],
   "execution_count": 5
  },
  {
   "metadata": {
    "ExecuteTime": {
     "end_time": "2025-04-11T17:05:03.929862Z",
     "start_time": "2025-04-11T17:04:59.644437Z"
    }
   },
   "cell_type": "code",
   "source": [
    "sentences = books[\"description\"][0].split(\".\")\n",
    "predictions = classifier(sentences)"
   ],
   "id": "dcabfa15459caa47",
   "outputs": [],
   "execution_count": 6
  },
  {
   "metadata": {
    "ExecuteTime": {
     "end_time": "2025-04-11T17:05:07.517940Z",
     "start_time": "2025-04-11T17:05:07.508781Z"
    }
   },
   "cell_type": "code",
   "source": "sentences[0]",
   "id": "b2b5f9a736b3ccf5",
   "outputs": [
    {
     "data": {
      "text/plain": [
       "'A NOVEL THAT READERS and critics have been eagerly anticipating for over a decade, Gilead is an astonishingly imagined story of remarkable lives'"
      ]
     },
     "execution_count": 7,
     "metadata": {},
     "output_type": "execute_result"
    }
   ],
   "execution_count": 7
  },
  {
   "metadata": {
    "ExecuteTime": {
     "end_time": "2025-04-11T17:05:12.481496Z",
     "start_time": "2025-04-11T17:05:12.470994Z"
    }
   },
   "cell_type": "code",
   "source": "predictions[0]",
   "id": "49a6de2dc45b3361",
   "outputs": [
    {
     "data": {
      "text/plain": [
       "[{'label': 'surprise', 'score': 0.7296020984649658},\n",
       " {'label': 'neutral', 'score': 0.14038598537445068},\n",
       " {'label': 'fear', 'score': 0.06816231459379196},\n",
       " {'label': 'joy', 'score': 0.0479426383972168},\n",
       " {'label': 'anger', 'score': 0.009156366810202599},\n",
       " {'label': 'disgust', 'score': 0.0026284765917807817},\n",
       " {'label': 'sadness', 'score': 0.002122163539752364}]"
      ]
     },
     "execution_count": 8,
     "metadata": {},
     "output_type": "execute_result"
    }
   ],
   "execution_count": 8
  },
  {
   "metadata": {
    "ExecuteTime": {
     "end_time": "2025-04-11T17:05:17.929903Z",
     "start_time": "2025-04-11T17:05:17.921056Z"
    }
   },
   "cell_type": "code",
   "source": "sentences[3]",
   "id": "8f095b0e3afb9cff",
   "outputs": [
    {
     "data": {
      "text/plain": [
       "' Haunted by his grandfather’s presence, John tells of the rift between his grandfather and his father: the elder, an angry visionary who fought for the abolitionist cause, and his son, an ardent pacifist'"
      ]
     },
     "execution_count": 9,
     "metadata": {},
     "output_type": "execute_result"
    }
   ],
   "execution_count": 9
  },
  {
   "metadata": {
    "ExecuteTime": {
     "end_time": "2025-04-11T17:05:23.838940Z",
     "start_time": "2025-04-11T17:05:23.827592Z"
    }
   },
   "cell_type": "code",
   "source": "predictions[3]",
   "id": "a042890e4256099c",
   "outputs": [
    {
     "data": {
      "text/plain": [
       "[{'label': 'fear', 'score': 0.9281682968139648},\n",
       " {'label': 'anger', 'score': 0.03219086676836014},\n",
       " {'label': 'neutral', 'score': 0.012808667495846748},\n",
       " {'label': 'sadness', 'score': 0.008756859228014946},\n",
       " {'label': 'surprise', 'score': 0.008597901090979576},\n",
       " {'label': 'disgust', 'score': 0.008431815542280674},\n",
       " {'label': 'joy', 'score': 0.0010455823503434658}]"
      ]
     },
     "execution_count": 10,
     "metadata": {},
     "output_type": "execute_result"
    }
   ],
   "execution_count": 10
  },
  {
   "metadata": {
    "ExecuteTime": {
     "end_time": "2025-04-11T17:05:29.319750Z",
     "start_time": "2025-04-11T17:05:29.307617Z"
    }
   },
   "cell_type": "code",
   "source": "predictions",
   "id": "c8672b0abae45b0",
   "outputs": [
    {
     "data": {
      "text/plain": [
       "[[{'label': 'surprise', 'score': 0.7296020984649658},\n",
       "  {'label': 'neutral', 'score': 0.14038598537445068},\n",
       "  {'label': 'fear', 'score': 0.06816231459379196},\n",
       "  {'label': 'joy', 'score': 0.0479426383972168},\n",
       "  {'label': 'anger', 'score': 0.009156366810202599},\n",
       "  {'label': 'disgust', 'score': 0.0026284765917807817},\n",
       "  {'label': 'sadness', 'score': 0.002122163539752364}],\n",
       " [{'label': 'neutral', 'score': 0.4493700861930847},\n",
       "  {'label': 'disgust', 'score': 0.27359166741371155},\n",
       "  {'label': 'joy', 'score': 0.10908330976963043},\n",
       "  {'label': 'sadness', 'score': 0.0936274304986},\n",
       "  {'label': 'anger', 'score': 0.040478311479091644},\n",
       "  {'label': 'surprise', 'score': 0.02697015181183815},\n",
       "  {'label': 'fear', 'score': 0.006879040971398354}],\n",
       " [{'label': 'neutral', 'score': 0.6462160348892212},\n",
       "  {'label': 'sadness', 'score': 0.2427334040403366},\n",
       "  {'label': 'disgust', 'score': 0.043422676622867584},\n",
       "  {'label': 'surprise', 'score': 0.028300520032644272},\n",
       "  {'label': 'joy', 'score': 0.014211487025022507},\n",
       "  {'label': 'fear', 'score': 0.014084073714911938},\n",
       "  {'label': 'anger', 'score': 0.011031887494027615}],\n",
       " [{'label': 'fear', 'score': 0.9281682968139648},\n",
       "  {'label': 'anger', 'score': 0.03219086676836014},\n",
       "  {'label': 'neutral', 'score': 0.012808667495846748},\n",
       "  {'label': 'sadness', 'score': 0.008756859228014946},\n",
       "  {'label': 'surprise', 'score': 0.008597901090979576},\n",
       "  {'label': 'disgust', 'score': 0.008431815542280674},\n",
       "  {'label': 'joy', 'score': 0.0010455823503434658}],\n",
       " [{'label': 'sadness', 'score': 0.9671575427055359},\n",
       "  {'label': 'neutral', 'score': 0.015104148536920547},\n",
       "  {'label': 'disgust', 'score': 0.006480592768639326},\n",
       "  {'label': 'fear', 'score': 0.005393987521529198},\n",
       "  {'label': 'surprise', 'score': 0.0022869419772177935},\n",
       "  {'label': 'anger', 'score': 0.001842890284024179},\n",
       "  {'label': 'joy', 'score': 0.0017338789766654372}],\n",
       " [{'label': 'joy', 'score': 0.9327982664108276},\n",
       "  {'label': 'disgust', 'score': 0.037716951221227646},\n",
       "  {'label': 'neutral', 'score': 0.01589179039001465},\n",
       "  {'label': 'sadness', 'score': 0.006444488652050495},\n",
       "  {'label': 'anger', 'score': 0.005024956539273262},\n",
       "  {'label': 'surprise', 'score': 0.0015812052879482508},\n",
       "  {'label': 'fear', 'score': 0.000542305177077651}],\n",
       " [{'label': 'joy', 'score': 0.6528708338737488},\n",
       "  {'label': 'neutral', 'score': 0.2542746663093567},\n",
       "  {'label': 'surprise', 'score': 0.06808292865753174},\n",
       "  {'label': 'sadness', 'score': 0.00990899559110403},\n",
       "  {'label': 'disgust', 'score': 0.006512210238724947},\n",
       "  {'label': 'anger', 'score': 0.004821307025849819},\n",
       "  {'label': 'fear', 'score': 0.0035290156956762075}],\n",
       " [{'label': 'neutral', 'score': 0.5494776368141174},\n",
       "  {'label': 'sadness', 'score': 0.11169002205133438},\n",
       "  {'label': 'disgust', 'score': 0.10400651395320892},\n",
       "  {'label': 'surprise', 'score': 0.0787653774023056},\n",
       "  {'label': 'anger', 'score': 0.06413347274065018},\n",
       "  {'label': 'fear', 'score': 0.05136268585920334},\n",
       "  {'label': 'joy', 'score': 0.04056432843208313}]]"
      ]
     },
     "execution_count": 11,
     "metadata": {},
     "output_type": "execute_result"
    }
   ],
   "execution_count": 11
  },
  {
   "metadata": {
    "ExecuteTime": {
     "end_time": "2025-04-11T17:05:36.402186Z",
     "start_time": "2025-04-11T17:05:36.393640Z"
    }
   },
   "cell_type": "code",
   "source": "sorted(predictions[0], key=lambda x: x[\"label\"])",
   "id": "ca13c441c315a393",
   "outputs": [
    {
     "data": {
      "text/plain": [
       "[{'label': 'anger', 'score': 0.009156366810202599},\n",
       " {'label': 'disgust', 'score': 0.0026284765917807817},\n",
       " {'label': 'fear', 'score': 0.06816231459379196},\n",
       " {'label': 'joy', 'score': 0.0479426383972168},\n",
       " {'label': 'neutral', 'score': 0.14038598537445068},\n",
       " {'label': 'sadness', 'score': 0.002122163539752364},\n",
       " {'label': 'surprise', 'score': 0.7296020984649658}]"
      ]
     },
     "execution_count": 12,
     "metadata": {},
     "output_type": "execute_result"
    }
   ],
   "execution_count": 12
  },
  {
   "metadata": {
    "ExecuteTime": {
     "end_time": "2025-04-11T17:05:43.256681Z",
     "start_time": "2025-04-11T17:05:43.248643Z"
    }
   },
   "cell_type": "code",
   "source": [
    "import numpy as np\n",
    "\n",
    "emotion_labels = [\"anger\", \"disgust\", \"fear\", \"joy\", \"sadness\", \"surprise\", \"neutral\"]\n",
    "isbn = []\n",
    "emotion_scores = {label: [] for label in emotion_labels}\n",
    "\n",
    "def calculate_max_emotion_scores(predictions):\n",
    "    per_emotion_scores = {label: [] for label in emotion_labels}\n",
    "    for prediction in predictions:\n",
    "        sorted_predictions = sorted(prediction, key=lambda x: x[\"label\"])\n",
    "        for index, label in enumerate(emotion_labels):\n",
    "            per_emotion_scores[label].append(sorted_predictions[index][\"score\"])\n",
    "    return {label: np.max(scores) for label, scores in per_emotion_scores.items()}"
   ],
   "id": "a597546905e65e04",
   "outputs": [],
   "execution_count": 13
  },
  {
   "metadata": {
    "ExecuteTime": {
     "end_time": "2025-04-11T17:06:00.874873Z",
     "start_time": "2025-04-11T17:05:49.399995Z"
    }
   },
   "cell_type": "code",
   "source": [
    "for i in range(10):\n",
    "    isbn.append(books[\"isbn13\"][i])\n",
    "    sentences = books[\"description\"][i].split(\".\")\n",
    "    predictions = classifier(sentences)\n",
    "    max_scores = calculate_max_emotion_scores(predictions)\n",
    "    for label in emotion_labels:\n",
    "        emotion_scores[label].append(max_scores[label])"
   ],
   "id": "2b3ac331c9a9aa1",
   "outputs": [],
   "execution_count": 14
  },
  {
   "metadata": {
    "ExecuteTime": {
     "end_time": "2025-04-11T17:06:08.581578Z",
     "start_time": "2025-04-11T17:06:08.563811Z"
    }
   },
   "cell_type": "code",
   "source": "emotion_scores",
   "id": "f4b1a416fe4fdff0",
   "outputs": [
    {
     "data": {
      "text/plain": [
       "{'anger': [0.06413347274065018,\n",
       "  0.6126192808151245,\n",
       "  0.06413347274065018,\n",
       "  0.35148438811302185,\n",
       "  0.08141247928142548,\n",
       "  0.23222461342811584,\n",
       "  0.538184404373169,\n",
       "  0.06413347274065018,\n",
       "  0.30066999793052673,\n",
       "  0.06413347274065018],\n",
       " 'disgust': [0.27359166741371155,\n",
       "  0.34828487038612366,\n",
       "  0.10400651395320892,\n",
       "  0.15072248876094818,\n",
       "  0.18449532985687256,\n",
       "  0.7271749973297119,\n",
       "  0.1558550000190735,\n",
       "  0.10400651395320892,\n",
       "  0.27948135137557983,\n",
       "  0.17792613804340363],\n",
       " 'fear': [0.9281682968139648,\n",
       "  0.9425276517868042,\n",
       "  0.9723207950592041,\n",
       "  0.3607058823108673,\n",
       "  0.09504334628582001,\n",
       "  0.05136268585920334,\n",
       "  0.7474270462989807,\n",
       "  0.40449708700180054,\n",
       "  0.9155240654945374,\n",
       "  0.05136268585920334],\n",
       " 'joy': [0.9327982664108276,\n",
       "  0.7044222950935364,\n",
       "  0.7672383785247803,\n",
       "  0.2518811821937561,\n",
       "  0.04056432843208313,\n",
       "  0.043375853449106216,\n",
       "  0.8725653886795044,\n",
       "  0.04056432843208313,\n",
       "  0.04056432843208313,\n",
       "  0.04056432843208313],\n",
       " 'sadness': [0.6462160348892212,\n",
       "  0.8879395127296448,\n",
       "  0.5494776368141174,\n",
       "  0.7326849699020386,\n",
       "  0.8843896389007568,\n",
       "  0.6213918328285217,\n",
       "  0.7121940851211548,\n",
       "  0.5494776368141174,\n",
       "  0.840289294719696,\n",
       "  0.8603723645210266],\n",
       " 'surprise': [0.9671575427055359,\n",
       "  0.11169002205133438,\n",
       "  0.11169002205133438,\n",
       "  0.11169002205133438,\n",
       "  0.47588053345680237,\n",
       "  0.11169002205133438,\n",
       "  0.4080010652542114,\n",
       "  0.8202826380729675,\n",
       "  0.35446107387542725,\n",
       "  0.11169002205133438],\n",
       " 'neutral': [0.7296020984649658,\n",
       "  0.2525462508201599,\n",
       "  0.0787653774023056,\n",
       "  0.0787653774023056,\n",
       "  0.0787653774023056,\n",
       "  0.27190348505973816,\n",
       "  0.0787653774023056,\n",
       "  0.23448701202869415,\n",
       "  0.13561420142650604,\n",
       "  0.0787653774023056]}"
      ]
     },
     "execution_count": 15,
     "metadata": {},
     "output_type": "execute_result"
    }
   ],
   "execution_count": 15
  },
  {
   "metadata": {
    "jupyter": {
     "is_executing": true
    },
    "ExecuteTime": {
     "start_time": "2025-04-11T17:06:17.496782Z"
    }
   },
   "cell_type": "code",
   "source": [
    "from tqdm import tqdm\n",
    "\n",
    "emotion_labels = [\"anger\", \"disgust\", \"fear\", \"joy\", \"sadness\", \"surprise\", \"neutral\"]\n",
    "isbn = []\n",
    "emotion_scores = {label: [] for label in emotion_labels}\n",
    "\n",
    "for i in tqdm(range(len(books))):\n",
    "    isbn.append(books[\"isbn13\"][i])\n",
    "    sentences = books[\"description\"][i].split(\".\")\n",
    "    predictions = classifier(sentences)\n",
    "    max_scores = calculate_max_emotion_scores(predictions)\n",
    "    for label in emotion_labels:\n",
    "        emotion_scores[label].append(max_scores[label])"
   ],
   "id": "b17fc2040f4c0902",
   "outputs": [
    {
     "name": "stderr",
     "output_type": "stream",
     "text": [
      "  1%|          | 50/5197 [00:16<46:41,  1.84it/s] "
     ]
    }
   ],
   "execution_count": null
  },
  {
   "metadata": {},
   "cell_type": "code",
   "outputs": [],
   "execution_count": null,
   "source": "",
   "id": "c6328817c2e3526b"
  }
 ],
 "metadata": {
  "kernelspec": {
   "display_name": "Python 3",
   "language": "python",
   "name": "python3"
  },
  "language_info": {
   "codemirror_mode": {
    "name": "ipython",
    "version": 2
   },
   "file_extension": ".py",
   "mimetype": "text/x-python",
   "name": "python",
   "nbconvert_exporter": "python",
   "pygments_lexer": "ipython2",
   "version": "2.7.6"
  }
 },
 "nbformat": 4,
 "nbformat_minor": 5
}
